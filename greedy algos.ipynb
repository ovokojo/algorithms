{
 "cells": [
  {
   "cell_type": "markdown",
   "metadata": {},
   "source": [
    "### The Change Problem"
   ]
  },
  {
   "cell_type": "markdown",
   "metadata": {},
   "source": [
    "Find the minimum number of coins needed to change the input value (an integer) into coins with denominations 1, 5, and 10."
   ]
  },
  {
   "cell_type": "markdown",
   "metadata": {},
   "source": [
    "#### Solution Statement\n",
    "\n",
    "if there's no remainder when you divide m by 10, return the result\n",
    "\n",
    "if there is a result, add the number you get by dividing m - the remainder to the number of coins\n",
    "\n",
    "if there's no remainder when you divide the previous remainder by 5, add the result to the number of coins\n",
    "\n",
    "if there is, subtract the remainder and divide the value by 5, then add the result to the number of coins\n",
    "\n",
    "Lastly, add the remainder to the number of coins"
   ]
  },
  {
   "cell_type": "code",
   "execution_count": 1,
   "metadata": {},
   "outputs": [
    {
     "name": "stdout",
     "output_type": "stream",
     "text": [
      "CPU times: user 6 µs, sys: 1 µs, total: 7 µs\n",
      "Wall time: 11 µs\n"
     ]
    }
   ],
   "source": [
    "%%time\n",
    "\n",
    "def get_change(m):\n",
    "    #write your code here\n",
    "    change = 0\n",
    "    coins = 0\n",
    "    if m % 10 == 0:\n",
    "        coins = int(m/10)\n",
    "    else:\n",
    "        remainder1 = m % 10\n",
    "        coins += int((m-remainder1)/10)\n",
    "        if remainder1 % 5 == 0:\n",
    "            coins += int(remainder1/5)\n",
    "        else:\n",
    "            remainder2 = remainder1 % 5\n",
    "            coins += int((remainder1-remainder2)/5)\n",
    "            coins += remainder2\n",
    "          \n",
    "    return coins"
   ]
  },
  {
   "cell_type": "code",
   "execution_count": 2,
   "metadata": {},
   "outputs": [
    {
     "name": "stdout",
     "output_type": "stream",
     "text": [
      "CPU times: user 15 µs, sys: 1 µs, total: 16 µs\n",
      "Wall time: 23.8 µs\n"
     ]
    },
    {
     "data": {
      "text/plain": [
       "104"
      ]
     },
     "execution_count": 2,
     "metadata": {},
     "output_type": "execute_result"
    }
   ],
   "source": [
    "%%time\n",
    "get_change(999)"
   ]
  },
  {
   "cell_type": "code",
   "execution_count": null,
   "metadata": {},
   "outputs": [],
   "source": []
  }
 ],
 "metadata": {
  "kernelspec": {
   "display_name": "Python 3",
   "language": "python",
   "name": "python3"
  },
  "language_info": {
   "codemirror_mode": {
    "name": "ipython",
    "version": 3
   },
   "file_extension": ".py",
   "mimetype": "text/x-python",
   "name": "python",
   "nbconvert_exporter": "python",
   "pygments_lexer": "ipython3",
   "version": "3.6.7"
  }
 },
 "nbformat": 4,
 "nbformat_minor": 2
}
