{
 "cells": [
  {
   "cell_type": "markdown",
   "metadata": {},
   "source": [
    "### The Change Problem"
   ]
  },
  {
   "cell_type": "markdown",
   "metadata": {},
   "source": [
    "Find the minimum number of coins needed to change the input value (an integer) into coins with denominations 1, 5, and 10."
   ]
  },
  {
   "cell_type": "markdown",
   "metadata": {},
   "source": [
    "#### Solution Statement\n",
    "\n",
    "if there's no remainder when you divide m by 10, return the result\n",
    "\n",
    "if there is a result, add the number you get by dividing m - the remainder to the number of coins\n",
    "\n",
    "if there's no remainder when you divide the previous remainder by 5, add the result to the number of coins\n",
    "\n",
    "if there is, subtract the remainder and divide the value by 5, then add the result to the number of coins\n",
    "\n",
    "Lastly, add the remainder to the number of coins"
   ]
  },
  {
   "cell_type": "code",
   "execution_count": 1,
   "metadata": {},
   "outputs": [
    {
     "name": "stdout",
     "output_type": "stream",
     "text": [
      "CPU times: user 6 µs, sys: 1 µs, total: 7 µs\n",
      "Wall time: 11 µs\n"
     ]
    }
   ],
   "source": [
    "%%time\n",
    "\n",
    "def get_change(m):\n",
    "    #write your code here\n",
    "    change = 0\n",
    "    coins = 0\n",
    "    if m % 10 == 0:\n",
    "        coins = int(m/10)\n",
    "    else:\n",
    "        remainder1 = m % 10\n",
    "        coins += int((m-remainder1)/10)\n",
    "        if remainder1 % 5 == 0:\n",
    "            coins += int(remainder1/5)\n",
    "        else:\n",
    "            remainder2 = remainder1 % 5\n",
    "            coins += int((remainder1-remainder2)/5)\n",
    "            coins += remainder2\n",
    "          \n",
    "    return coins"
   ]
  },
  {
   "cell_type": "code",
   "execution_count": 2,
   "metadata": {},
   "outputs": [
    {
     "name": "stdout",
     "output_type": "stream",
     "text": [
      "CPU times: user 15 µs, sys: 1 µs, total: 16 µs\n",
      "Wall time: 23.8 µs\n"
     ]
    },
    {
     "data": {
      "text/plain": [
       "104"
      ]
     },
     "execution_count": 2,
     "metadata": {},
     "output_type": "execute_result"
    }
   ],
   "source": [
    "%%time\n",
    "get_change(999)"
   ]
  },
  {
   "cell_type": "markdown",
   "metadata": {},
   "source": [
    "### The Fractional Knapsack Problem"
   ]
  },
  {
   "cell_type": "markdown",
   "metadata": {},
   "source": [
    "Find the most valuable combination of items for an input that contains the number 𝑛 of items and the capacity 𝑊 of a knapsack. The values and weights of the items contain integers 𝑣𝑖 and 𝑤𝑖—the\n",
    "value and the weight of 𝑖-th item, respectively."
   ]
  },
  {
   "cell_type": "markdown",
   "metadata": {},
   "source": [
    "#### Solution Formulation\n",
    "\n",
    "Calculate the value per weight (vpw = vi/wi) for all items\n",
    "Select the item with the highest vpw:\n",
    "\n",
    "    a - if the weight of this item exceeds capacity, select the fraction of wi that is equal to capacity as the total\n",
    "    \n",
    "    b - If the weight of this item is equal to capacity, return vi as the total\n",
    "    \n",
    "    c - if the weight of this item is less than vi, add the value of this item to the total, and subtract wi from the remaining capacity. if there are no items left, return vi as total\n",
    "    \n",
    "    d - Select the item with the next highest vpw:\n",
    "        \n",
    "            repeat abcd until there are no items left"
   ]
  },
  {
   "cell_type": "code",
   "execution_count": 254,
   "metadata": {},
   "outputs": [],
   "source": [
    "def get_optimal_value(capacity, weights, values):\n",
    "    n = capacity[0]\n",
    "    cap = capacity[1]\n",
    "    value = 0\n",
    "    total = 0\n",
    "    vpw = []\n",
    "    items = 0\n",
    "    \n",
    "    for i in range(0,n):\n",
    "        vpw.append(values[i] / weights[i] )\n",
    "    \n",
    "    while items != n:\n",
    "        max_vpw_index = vpw.index(max(vpw))\n",
    "        max_vpw_weight = weights[max_vpw_index]\n",
    "        max_vpw_value = values[max_vpw_index]\n",
    "    \n",
    "        if max_vpw_weight > cap:\n",
    "            value = (cap / max_vpw_weight) * max_vpw_value\n",
    "            total += value\n",
    "            break\n",
    "    \n",
    "        elif max_vpw_weight == cap:\n",
    "            total += max_vpw_value\n",
    "            break\n",
    "    \n",
    "        else:\n",
    "            total += max_vpw_value\n",
    "            cap -= max_vpw_weight\n",
    "            items += 1\n",
    "            \n",
    "            weights.pop(vpw.index(max(vpw)))\n",
    "            values.pop(vpw.index(max(vpw)))\n",
    "            vpw.pop(vpw.index(max(vpw)))\n",
    "    \n",
    "    return total"
   ]
  },
  {
   "cell_type": "code",
   "execution_count": 255,
   "metadata": {},
   "outputs": [
    {
     "data": {
      "text/plain": [
       "180"
      ]
     },
     "execution_count": 255,
     "metadata": {},
     "output_type": "execute_result"
    }
   ],
   "source": [
    "get_optimal_value([3,50], [20, 50, 30], [60,100,120])"
   ]
  },
  {
   "cell_type": "code",
   "execution_count": 256,
   "metadata": {},
   "outputs": [
    {
     "data": {
      "text/plain": [
       "166.66666666666666"
      ]
     },
     "execution_count": 256,
     "metadata": {},
     "output_type": "execute_result"
    }
   ],
   "source": [
    "get_optimal_value([1,10], [30], [500])"
   ]
  },
  {
   "cell_type": "markdown",
   "metadata": {},
   "source": [
    "Pseudocode\n",
    "Sort the profit per click and avg clicks per day in descending order\n",
    "compute the sum of the product"
   ]
  },
  {
   "cell_type": "code",
   "execution_count": 4,
   "metadata": {},
   "outputs": [
    {
     "name": "stdout",
     "output_type": "stream",
     "text": [
      "[34, 27, 6, 5, 5, 4, 1, 1]\n"
     ]
    }
   ],
   "source": [
    "test_list = [1,5,27,6,34,4,1,5]\n",
    "test_list.sort(reverse=True)\n",
    "print(test_list)"
   ]
  },
  {
   "cell_type": "code",
   "execution_count": 11,
   "metadata": {},
   "outputs": [],
   "source": [
    "def max_dot_product(a, b):\n",
    "    #write your code here\n",
    "    res = 0\n",
    "    a.sort(reverse=True)\n",
    "    b.sort(reverse=True)\n",
    "    \n",
    "    for i in range(len(a)):\n",
    "        res += a[i] * b[i]\n",
    "    return res"
   ]
  },
  {
   "cell_type": "code",
   "execution_count": 13,
   "metadata": {},
   "outputs": [
    {
     "name": "stdout",
     "output_type": "stream",
     "text": [
      "[3, 1, -5]\n",
      "[4, 1, -2]\n"
     ]
    },
    {
     "data": {
      "text/plain": [
       "23"
      ]
     },
     "execution_count": 13,
     "metadata": {},
     "output_type": "execute_result"
    }
   ],
   "source": [
    "max_dot_product([1,3,-5],[-2,4,1])"
   ]
  },
  {
   "cell_type": "code",
   "execution_count": null,
   "metadata": {},
   "outputs": [],
   "source": []
  }
 ],
 "metadata": {
  "kernelspec": {
   "display_name": "Python 3",
   "language": "python",
   "name": "python3"
  },
  "language_info": {
   "codemirror_mode": {
    "name": "ipython",
    "version": 3
   },
   "file_extension": ".py",
   "mimetype": "text/x-python",
   "name": "python",
   "nbconvert_exporter": "python",
   "pygments_lexer": "ipython3",
   "version": "3.6.7"
  }
 },
 "nbformat": 4,
 "nbformat_minor": 2
}
