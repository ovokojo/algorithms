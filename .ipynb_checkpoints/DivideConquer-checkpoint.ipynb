{
 "cells": [
  {
   "cell_type": "markdown",
   "metadata": {},
   "source": [
    "### binary search algorithm"
   ]
  },
  {
   "cell_type": "code",
   "execution_count": 71,
   "metadata": {},
   "outputs": [
    {
     "name": "stdout",
     "output_type": "stream",
     "text": [
      "CPU times: user 9 µs, sys: 13 µs, total: 22 µs\n",
      "Wall time: 63.2 µs\n"
     ]
    }
   ],
   "source": [
    "%%time\n",
    "\n",
    "def binary_search(a, x):\n",
    "    left, right = 0, len(a)-1\n",
    "    \n",
    "    while left <= right:\n",
    "        \n",
    "        target = int((right + left) / 2)\n",
    "        \n",
    "        if a[target] == x:\n",
    "            return target\n",
    "        \n",
    "        elif a[left] == x:\n",
    "            return left\n",
    "        \n",
    "        elif a[right] == x:\n",
    "            return right\n",
    "        \n",
    "        elif right - left == 1 and a[target] != x:   \n",
    "            return -1\n",
    "            \n",
    "        elif a[target] > x:\n",
    "            right = target\n",
    "         \n",
    "        else:\n",
    "            left = target \n",
    "        \n",
    "    return -1\n",
    "    # write your code here\n"
   ]
  },
  {
   "cell_type": "code",
   "execution_count": 72,
   "metadata": {},
   "outputs": [
    {
     "data": {
      "text/plain": [
       "4"
      ]
     },
     "execution_count": 72,
     "metadata": {},
     "output_type": "execute_result"
    }
   ],
   "source": [
    "binary_search([1, 2, 3, 4, 5], 5)"
   ]
  },
  {
   "cell_type": "code",
   "execution_count": 73,
   "metadata": {},
   "outputs": [
    {
     "data": {
      "text/plain": [
       "-1"
      ]
     },
     "execution_count": 73,
     "metadata": {},
     "output_type": "execute_result"
    }
   ],
   "source": [
    "binary_search([1, 2, 3, 4, 5, 7, 8, 9, 10], 6)"
   ]
  },
  {
   "cell_type": "markdown",
   "metadata": {},
   "source": [
    "### majority element problem"
   ]
  },
  {
   "cell_type": "code",
   "execution_count": 74,
   "metadata": {},
   "outputs": [],
   "source": [
    "def get_majority_element(a, left, right):\n",
    "    if left == right:\n",
    "        return -1\n",
    "    if right == 1:\n",
    "        return a[left]\n",
    "        \n",
    "    left_item = get_majority_element(a[:int(right/2)], left, len(a[:int(right/2)]))\n",
    "    right_item = get_majority_element(a[int(right/2):], left, len(a[int(right/2):]))\n",
    "    \n",
    "    left_item_count = 0\n",
    "    for i in range(left, right):\n",
    "        print(i)\n",
    "        if a[i] == left_item:\n",
    "            left_item_count += 1\n",
    "    if left_item_count > (left + right) / 2:\n",
    "        return left_item\n",
    "    \n",
    "    right_item_count = 0\n",
    "    for i in range(left, right):\n",
    "        if a[i] == right_item:\n",
    "            right_item_count += 1\n",
    "    if right_item_count > (left + right) / 2:\n",
    "        return right_item\n",
    "    \n",
    "    \n",
    "    return -1"
   ]
  },
  {
   "cell_type": "code",
   "execution_count": 69,
   "metadata": {},
   "outputs": [
    {
     "name": "stdout",
     "output_type": "stream",
     "text": [
      "base case 1: 1\n",
      "base case 1: 2\n",
      "0\n",
      "1\n",
      "base case 1: 3\n",
      "base case 1: 4\n",
      "0\n",
      "1\n",
      "0\n",
      "1\n",
      "2\n",
      "3\n"
     ]
    },
    {
     "data": {
      "text/plain": [
       "-1"
      ]
     },
     "execution_count": 69,
     "metadata": {},
     "output_type": "execute_result"
    }
   ],
   "source": [
    "get_majority_element([1,2,3,4], 0, 4)"
   ]
  },
  {
   "cell_type": "code",
   "execution_count": 66,
   "metadata": {},
   "outputs": [
    {
     "name": "stdout",
     "output_type": "stream",
     "text": [
      "base case 1: 1\n",
      "base case 1: 2\n",
      "base case 1: 3\n",
      "base case 1: 4\n",
      "base case 1: 5\n",
      "base case 1: 5\n",
      "base case 1: 5\n",
      "base case 1: 5\n",
      "base case 1: 5\n",
      "base case 1: 5\n"
     ]
    },
    {
     "data": {
      "text/plain": [
       "5"
      ]
     },
     "execution_count": 66,
     "metadata": {},
     "output_type": "execute_result"
    }
   ],
   "source": [
    "get_majority_element([1,2,3,4,5,5,5,5,5,5], 0,10)\n",
    "#get_majority_element([1,2,3,4,4,4,4,4,4,4],0, 10)\n",
    "#get_majority_element([5,5,2,5,3,5,4,5,6,5], 0, 10)"
   ]
  }
 ],
 "metadata": {
  "kernelspec": {
   "display_name": "Python 3",
   "language": "python",
   "name": "python3"
  },
  "language_info": {
   "codemirror_mode": {
    "name": "ipython",
    "version": 3
   },
   "file_extension": ".py",
   "mimetype": "text/x-python",
   "name": "python",
   "nbconvert_exporter": "python",
   "pygments_lexer": "ipython3",
   "version": "3.6.7"
  }
 },
 "nbformat": 4,
 "nbformat_minor": 2
}
