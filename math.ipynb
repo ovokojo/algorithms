{
 "cells": [
  {
   "cell_type": "markdown",
   "metadata": {},
   "source": [
    "### Simple math problems"
   ]
  },
  {
   "cell_type": "code",
   "execution_count": 22,
   "metadata": {},
   "outputs": [],
   "source": [
    "import math "
   ]
  },
  {
   "cell_type": "markdown",
   "metadata": {},
   "source": [
    "Determine the nth fibonacci number"
   ]
  },
  {
   "cell_type": "code",
   "execution_count": 15,
   "metadata": {},
   "outputs": [
    {
     "name": "stdout",
     "output_type": "stream",
     "text": [
      "43466557686937456435688527675040625802564660517371780402481729089536555417949051890403879840079255169295922593080322634775209689623239873322471161642996440906533187938298969649928516003704476137795166849228875\n",
      "CPU times: user 281 µs, sys: 142 µs, total: 423 µs\n",
      "Wall time: 326 µs\n"
     ]
    }
   ],
   "source": [
    "%%time\n",
    "def calc_fib(n):\n",
    "    if n <= 1:\n",
    "        return n\n",
    "    \n",
    "    previous = 0\n",
    "    current  = 1\n",
    "\n",
    "    for _ in range(n - 1):\n",
    "        previous, current = current, previous + current\n",
    "\n",
    "    return current\n",
    "    \n",
    "\n",
    "print(calc_fib(1000))"
   ]
  },
  {
   "cell_type": "markdown",
   "metadata": {},
   "source": [
    "Determine the last digit of the nth fibonacci number"
   ]
  },
  {
   "cell_type": "code",
   "execution_count": 4,
   "metadata": {},
   "outputs": [
    {
     "name": "stdout",
     "output_type": "stream",
     "text": [
      "5\n",
      "CPU times: user 346 µs, sys: 56 µs, total: 402 µs\n",
      "Wall time: 373 µs\n"
     ]
    }
   ],
   "source": [
    "%%time\n",
    "def get_fibonacci_last_digit_naive(n):\n",
    "    if n <= 1:\n",
    "        return n\n",
    "\n",
    "    previous = 0\n",
    "    current  = 1\n",
    "\n",
    "    for _ in range(n - 1):\n",
    "        previous, current = current %10, previous%10 + current%10\n",
    "    return current % 10\n",
    "\n",
    "print(get_fibonacci_last_digit_naive(1000))"
   ]
  },
  {
   "cell_type": "markdown",
   "metadata": {},
   "source": [
    "Finding the greatest common denominator"
   ]
  },
  {
   "cell_type": "code",
   "execution_count": 12,
   "metadata": {},
   "outputs": [
    {
     "name": "stdout",
     "output_type": "stream",
     "text": [
      "120\n",
      "CPU times: user 2.5 ms, sys: 539 µs, total: 3.04 ms\n",
      "Wall time: 2.86 ms\n"
     ]
    }
   ],
   "source": [
    "%%time\n",
    "def gcd_naive(a, b):\n",
    "    #naive implementation\n",
    "    current_gcd = 1\n",
    "    for d in range(2, min(a, b) + 1):\n",
    "        if a % d == 0 and b % d == 0:\n",
    "            if d > current_gcd:\n",
    "                current_gcd = d\n",
    "\n",
    "    return current_gcd\n",
    "\n",
    "print(gcd_naive(54840,24840))"
   ]
  },
  {
   "cell_type": "code",
   "execution_count": 13,
   "metadata": {},
   "outputs": [
    {
     "name": "stdout",
     "output_type": "stream",
     "text": [
      "120\n",
      "CPU times: user 178 µs, sys: 116 µs, total: 294 µs\n",
      "Wall time: 178 µs\n"
     ]
    }
   ],
   "source": [
    "%%time\n",
    "def gcd_quick(a,b):\n",
    "    #fast implementation\n",
    "    if b == 0:\n",
    "        return a\n",
    "    return gcd_quick(b, a%b)\n",
    "\n",
    "print(gcd_quick(54840,24840))"
   ]
  },
  {
   "cell_type": "markdown",
   "metadata": {},
   "source": [
    "Finding the lowest common multiple"
   ]
  },
  {
   "cell_type": "code",
   "execution_count": 21,
   "metadata": {},
   "outputs": [
    {
     "name": "stdout",
     "output_type": "stream",
     "text": [
      "49498080\n",
      "CPU times: user 3.03 s, sys: 9.09 ms, total: 3.03 s\n",
      "Wall time: 3.04 s\n"
     ]
    }
   ],
   "source": [
    "%%time\n",
    "def lcm_naive(a, b):\n",
    "    for l in range(1, a*b + 1):\n",
    "        if l % a == 0 and l % b == 0:\n",
    "            return l\n",
    "\n",
    "    return a*b\n",
    "\n",
    "print(lcm_naive(48480, 40840))"
   ]
  },
  {
   "cell_type": "code",
   "execution_count": 43,
   "metadata": {},
   "outputs": [
    {
     "name": "stdout",
     "output_type": "stream",
     "text": [
      "5\n",
      "46374212988031350\n",
      "CPU times: user 163 µs, sys: 58 µs, total: 221 µs\n",
      "Wall time: 179 µs\n"
     ]
    }
   ],
   "source": [
    "%%time\n",
    "\n",
    "def lcm_quick(a, b):\n",
    "    def gcd_quick(x,y):\n",
    "        if y == 0:\n",
    "            return x\n",
    "        return gcd_quick(y, x%y)\n",
    "    \n",
    "    if a == 1 and b == 1:\n",
    "        return a * b\n",
    "    else:        \n",
    "        gcd = gcd_quick(a,b)\n",
    "        print(gcd)\n",
    "        result = int(a / gcd) * b\n",
    "        return result\n",
    "    \n",
    "\n",
    "print(lcm_quick(226553150, 1023473145))"
   ]
  },
  {
   "cell_type": "code",
   "execution_count": null,
   "metadata": {},
   "outputs": [],
   "source": []
  }
 ],
 "metadata": {
  "kernelspec": {
   "display_name": "Python 3",
   "language": "python",
   "name": "python3"
  },
  "language_info": {
   "codemirror_mode": {
    "name": "ipython",
    "version": 3
   },
   "file_extension": ".py",
   "mimetype": "text/x-python",
   "name": "python",
   "nbconvert_exporter": "python",
   "pygments_lexer": "ipython3",
   "version": "3.6.7"
  }
 },
 "nbformat": 4,
 "nbformat_minor": 2
}
